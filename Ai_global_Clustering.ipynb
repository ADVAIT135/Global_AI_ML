{
  "nbformat": 4,
  "nbformat_minor": 0,
  "metadata": {
    "colab": {
      "name": "Ai_global_Clustering.ipynb",
      "provenance": [],
      "authorship_tag": "ABX9TyNvAIVW1pNWgFebVw+FXGsy",
      "include_colab_link": true
    },
    "kernelspec": {
      "name": "python3",
      "display_name": "Python 3"
    },
    "language_info": {
      "name": "python"
    }
  },
  "cells": [
    {
      "cell_type": "markdown",
      "metadata": {
        "id": "view-in-github",
        "colab_type": "text"
      },
      "source": [
        "<a href=\"https://colab.research.google.com/github/ADVAIT135/Global_AI_ML/blob/main/Ai_global_Clustering.ipynb\" target=\"_parent\"><img src=\"https://colab.research.google.com/assets/colab-badge.svg\" alt=\"Open In Colab\"/></a>"
      ]
    },
    {
      "cell_type": "code",
      "execution_count": 2,
      "metadata": {
        "id": "3YDn9PE6zUMT"
      },
      "outputs": [],
      "source": [
        "import pandas as pd\n",
        "import numpy as np\n"
      ]
    },
    {
      "cell_type": "code",
      "source": [
        "data = pd.read_csv('/content/Live.csv')"
      ],
      "metadata": {
        "id": "zSDUvBJK0Rwb"
      },
      "execution_count": 3,
      "outputs": []
    },
    {
      "cell_type": "code",
      "source": [
        "data"
      ],
      "metadata": {
        "colab": {
          "base_uri": "https://localhost:8080/",
          "height": 672
        },
        "id": "zEMG7k6U0UgK",
        "outputId": "1bf6c3d0-7d88-466e-8c1e-95a64d197323"
      },
      "execution_count": 4,
      "outputs": [
        {
          "output_type": "execute_result",
          "data": {
            "text/plain": [
              "      num_reactions  num_comments  num_shares  num_likes  num_loves  num_wows  \\\n",
              "0          0.112314      0.024393    0.076519   0.091720   0.140030  0.010791   \n",
              "1          0.031847      0.000000    0.000000   0.031847   0.000000  0.000000   \n",
              "2          0.048195      0.011243    0.016647   0.043312   0.031963  0.003597   \n",
              "3          0.023567      0.000000    0.000000   0.023567   0.000000  0.000000   \n",
              "4          0.045223      0.000000    0.000000   0.043312   0.013699  0.000000   \n",
              "...             ...           ...         ...        ...        ...       ...   \n",
              "7045       0.018896      0.000000    0.000000   0.018896   0.000000  0.000000   \n",
              "7046       0.003397      0.000000    0.000000   0.002972   0.001522  0.000000   \n",
              "7047       0.000425      0.000000    0.000000   0.000212   0.001522  0.000000   \n",
              "7048       0.074522      0.000572    0.006425   0.074098   0.003044  0.000000   \n",
              "7049       0.003609      0.000000    0.000000   0.003609   0.000000  0.000000   \n",
              "\n",
              "      num_hahas  num_sads  num_angrys  status_type_link  status_type_photo  \\\n",
              "0      0.006369  0.019608         0.0               0.0                0.0   \n",
              "1      0.000000  0.000000         0.0               0.0                1.0   \n",
              "2      0.006369  0.000000         0.0               0.0                0.0   \n",
              "3      0.000000  0.000000         0.0               0.0                1.0   \n",
              "4      0.000000  0.000000         0.0               0.0                1.0   \n",
              "...         ...       ...         ...               ...                ...   \n",
              "7045   0.000000  0.000000         0.0               0.0                1.0   \n",
              "7046   0.006369  0.000000         0.0               0.0                1.0   \n",
              "7047   0.000000  0.000000         0.0               0.0                1.0   \n",
              "7048   0.000000  0.000000         0.0               0.0                1.0   \n",
              "7049   0.000000  0.000000         0.0               0.0                1.0   \n",
              "\n",
              "      status_type_status  status_type_video  \n",
              "0                    0.0                1.0  \n",
              "1                    0.0                0.0  \n",
              "2                    0.0                1.0  \n",
              "3                    0.0                0.0  \n",
              "4                    0.0                0.0  \n",
              "...                  ...                ...  \n",
              "7045                 0.0                0.0  \n",
              "7046                 0.0                0.0  \n",
              "7047                 0.0                0.0  \n",
              "7048                 0.0                0.0  \n",
              "7049                 0.0                0.0  \n",
              "\n",
              "[7050 rows x 13 columns]"
            ],
            "text/html": [
              "\n",
              "  <div id=\"df-6b12cded-bc14-4fd7-8510-1e4b29d95feb\">\n",
              "    <div class=\"colab-df-container\">\n",
              "      <div>\n",
              "<style scoped>\n",
              "    .dataframe tbody tr th:only-of-type {\n",
              "        vertical-align: middle;\n",
              "    }\n",
              "\n",
              "    .dataframe tbody tr th {\n",
              "        vertical-align: top;\n",
              "    }\n",
              "\n",
              "    .dataframe thead th {\n",
              "        text-align: right;\n",
              "    }\n",
              "</style>\n",
              "<table border=\"1\" class=\"dataframe\">\n",
              "  <thead>\n",
              "    <tr style=\"text-align: right;\">\n",
              "      <th></th>\n",
              "      <th>num_reactions</th>\n",
              "      <th>num_comments</th>\n",
              "      <th>num_shares</th>\n",
              "      <th>num_likes</th>\n",
              "      <th>num_loves</th>\n",
              "      <th>num_wows</th>\n",
              "      <th>num_hahas</th>\n",
              "      <th>num_sads</th>\n",
              "      <th>num_angrys</th>\n",
              "      <th>status_type_link</th>\n",
              "      <th>status_type_photo</th>\n",
              "      <th>status_type_status</th>\n",
              "      <th>status_type_video</th>\n",
              "    </tr>\n",
              "  </thead>\n",
              "  <tbody>\n",
              "    <tr>\n",
              "      <th>0</th>\n",
              "      <td>0.112314</td>\n",
              "      <td>0.024393</td>\n",
              "      <td>0.076519</td>\n",
              "      <td>0.091720</td>\n",
              "      <td>0.140030</td>\n",
              "      <td>0.010791</td>\n",
              "      <td>0.006369</td>\n",
              "      <td>0.019608</td>\n",
              "      <td>0.0</td>\n",
              "      <td>0.0</td>\n",
              "      <td>0.0</td>\n",
              "      <td>0.0</td>\n",
              "      <td>1.0</td>\n",
              "    </tr>\n",
              "    <tr>\n",
              "      <th>1</th>\n",
              "      <td>0.031847</td>\n",
              "      <td>0.000000</td>\n",
              "      <td>0.000000</td>\n",
              "      <td>0.031847</td>\n",
              "      <td>0.000000</td>\n",
              "      <td>0.000000</td>\n",
              "      <td>0.000000</td>\n",
              "      <td>0.000000</td>\n",
              "      <td>0.0</td>\n",
              "      <td>0.0</td>\n",
              "      <td>1.0</td>\n",
              "      <td>0.0</td>\n",
              "      <td>0.0</td>\n",
              "    </tr>\n",
              "    <tr>\n",
              "      <th>2</th>\n",
              "      <td>0.048195</td>\n",
              "      <td>0.011243</td>\n",
              "      <td>0.016647</td>\n",
              "      <td>0.043312</td>\n",
              "      <td>0.031963</td>\n",
              "      <td>0.003597</td>\n",
              "      <td>0.006369</td>\n",
              "      <td>0.000000</td>\n",
              "      <td>0.0</td>\n",
              "      <td>0.0</td>\n",
              "      <td>0.0</td>\n",
              "      <td>0.0</td>\n",
              "      <td>1.0</td>\n",
              "    </tr>\n",
              "    <tr>\n",
              "      <th>3</th>\n",
              "      <td>0.023567</td>\n",
              "      <td>0.000000</td>\n",
              "      <td>0.000000</td>\n",
              "      <td>0.023567</td>\n",
              "      <td>0.000000</td>\n",
              "      <td>0.000000</td>\n",
              "      <td>0.000000</td>\n",
              "      <td>0.000000</td>\n",
              "      <td>0.0</td>\n",
              "      <td>0.0</td>\n",
              "      <td>1.0</td>\n",
              "      <td>0.0</td>\n",
              "      <td>0.0</td>\n",
              "    </tr>\n",
              "    <tr>\n",
              "      <th>4</th>\n",
              "      <td>0.045223</td>\n",
              "      <td>0.000000</td>\n",
              "      <td>0.000000</td>\n",
              "      <td>0.043312</td>\n",
              "      <td>0.013699</td>\n",
              "      <td>0.000000</td>\n",
              "      <td>0.000000</td>\n",
              "      <td>0.000000</td>\n",
              "      <td>0.0</td>\n",
              "      <td>0.0</td>\n",
              "      <td>1.0</td>\n",
              "      <td>0.0</td>\n",
              "      <td>0.0</td>\n",
              "    </tr>\n",
              "    <tr>\n",
              "      <th>...</th>\n",
              "      <td>...</td>\n",
              "      <td>...</td>\n",
              "      <td>...</td>\n",
              "      <td>...</td>\n",
              "      <td>...</td>\n",
              "      <td>...</td>\n",
              "      <td>...</td>\n",
              "      <td>...</td>\n",
              "      <td>...</td>\n",
              "      <td>...</td>\n",
              "      <td>...</td>\n",
              "      <td>...</td>\n",
              "      <td>...</td>\n",
              "    </tr>\n",
              "    <tr>\n",
              "      <th>7045</th>\n",
              "      <td>0.018896</td>\n",
              "      <td>0.000000</td>\n",
              "      <td>0.000000</td>\n",
              "      <td>0.018896</td>\n",
              "      <td>0.000000</td>\n",
              "      <td>0.000000</td>\n",
              "      <td>0.000000</td>\n",
              "      <td>0.000000</td>\n",
              "      <td>0.0</td>\n",
              "      <td>0.0</td>\n",
              "      <td>1.0</td>\n",
              "      <td>0.0</td>\n",
              "      <td>0.0</td>\n",
              "    </tr>\n",
              "    <tr>\n",
              "      <th>7046</th>\n",
              "      <td>0.003397</td>\n",
              "      <td>0.000000</td>\n",
              "      <td>0.000000</td>\n",
              "      <td>0.002972</td>\n",
              "      <td>0.001522</td>\n",
              "      <td>0.000000</td>\n",
              "      <td>0.006369</td>\n",
              "      <td>0.000000</td>\n",
              "      <td>0.0</td>\n",
              "      <td>0.0</td>\n",
              "      <td>1.0</td>\n",
              "      <td>0.0</td>\n",
              "      <td>0.0</td>\n",
              "    </tr>\n",
              "    <tr>\n",
              "      <th>7047</th>\n",
              "      <td>0.000425</td>\n",
              "      <td>0.000000</td>\n",
              "      <td>0.000000</td>\n",
              "      <td>0.000212</td>\n",
              "      <td>0.001522</td>\n",
              "      <td>0.000000</td>\n",
              "      <td>0.000000</td>\n",
              "      <td>0.000000</td>\n",
              "      <td>0.0</td>\n",
              "      <td>0.0</td>\n",
              "      <td>1.0</td>\n",
              "      <td>0.0</td>\n",
              "      <td>0.0</td>\n",
              "    </tr>\n",
              "    <tr>\n",
              "      <th>7048</th>\n",
              "      <td>0.074522</td>\n",
              "      <td>0.000572</td>\n",
              "      <td>0.006425</td>\n",
              "      <td>0.074098</td>\n",
              "      <td>0.003044</td>\n",
              "      <td>0.000000</td>\n",
              "      <td>0.000000</td>\n",
              "      <td>0.000000</td>\n",
              "      <td>0.0</td>\n",
              "      <td>0.0</td>\n",
              "      <td>1.0</td>\n",
              "      <td>0.0</td>\n",
              "      <td>0.0</td>\n",
              "    </tr>\n",
              "    <tr>\n",
              "      <th>7049</th>\n",
              "      <td>0.003609</td>\n",
              "      <td>0.000000</td>\n",
              "      <td>0.000000</td>\n",
              "      <td>0.003609</td>\n",
              "      <td>0.000000</td>\n",
              "      <td>0.000000</td>\n",
              "      <td>0.000000</td>\n",
              "      <td>0.000000</td>\n",
              "      <td>0.0</td>\n",
              "      <td>0.0</td>\n",
              "      <td>1.0</td>\n",
              "      <td>0.0</td>\n",
              "      <td>0.0</td>\n",
              "    </tr>\n",
              "  </tbody>\n",
              "</table>\n",
              "<p>7050 rows × 13 columns</p>\n",
              "</div>\n",
              "      <button class=\"colab-df-convert\" onclick=\"convertToInteractive('df-6b12cded-bc14-4fd7-8510-1e4b29d95feb')\"\n",
              "              title=\"Convert this dataframe to an interactive table.\"\n",
              "              style=\"display:none;\">\n",
              "        \n",
              "  <svg xmlns=\"http://www.w3.org/2000/svg\" height=\"24px\"viewBox=\"0 0 24 24\"\n",
              "       width=\"24px\">\n",
              "    <path d=\"M0 0h24v24H0V0z\" fill=\"none\"/>\n",
              "    <path d=\"M18.56 5.44l.94 2.06.94-2.06 2.06-.94-2.06-.94-.94-2.06-.94 2.06-2.06.94zm-11 1L8.5 8.5l.94-2.06 2.06-.94-2.06-.94L8.5 2.5l-.94 2.06-2.06.94zm10 10l.94 2.06.94-2.06 2.06-.94-2.06-.94-.94-2.06-.94 2.06-2.06.94z\"/><path d=\"M17.41 7.96l-1.37-1.37c-.4-.4-.92-.59-1.43-.59-.52 0-1.04.2-1.43.59L10.3 9.45l-7.72 7.72c-.78.78-.78 2.05 0 2.83L4 21.41c.39.39.9.59 1.41.59.51 0 1.02-.2 1.41-.59l7.78-7.78 2.81-2.81c.8-.78.8-2.07 0-2.86zM5.41 20L4 18.59l7.72-7.72 1.47 1.35L5.41 20z\"/>\n",
              "  </svg>\n",
              "      </button>\n",
              "      \n",
              "  <style>\n",
              "    .colab-df-container {\n",
              "      display:flex;\n",
              "      flex-wrap:wrap;\n",
              "      gap: 12px;\n",
              "    }\n",
              "\n",
              "    .colab-df-convert {\n",
              "      background-color: #E8F0FE;\n",
              "      border: none;\n",
              "      border-radius: 50%;\n",
              "      cursor: pointer;\n",
              "      display: none;\n",
              "      fill: #1967D2;\n",
              "      height: 32px;\n",
              "      padding: 0 0 0 0;\n",
              "      width: 32px;\n",
              "    }\n",
              "\n",
              "    .colab-df-convert:hover {\n",
              "      background-color: #E2EBFA;\n",
              "      box-shadow: 0px 1px 2px rgba(60, 64, 67, 0.3), 0px 1px 3px 1px rgba(60, 64, 67, 0.15);\n",
              "      fill: #174EA6;\n",
              "    }\n",
              "\n",
              "    [theme=dark] .colab-df-convert {\n",
              "      background-color: #3B4455;\n",
              "      fill: #D2E3FC;\n",
              "    }\n",
              "\n",
              "    [theme=dark] .colab-df-convert:hover {\n",
              "      background-color: #434B5C;\n",
              "      box-shadow: 0px 1px 3px 1px rgba(0, 0, 0, 0.15);\n",
              "      filter: drop-shadow(0px 1px 2px rgba(0, 0, 0, 0.3));\n",
              "      fill: #FFFFFF;\n",
              "    }\n",
              "  </style>\n",
              "\n",
              "      <script>\n",
              "        const buttonEl =\n",
              "          document.querySelector('#df-6b12cded-bc14-4fd7-8510-1e4b29d95feb button.colab-df-convert');\n",
              "        buttonEl.style.display =\n",
              "          google.colab.kernel.accessAllowed ? 'block' : 'none';\n",
              "\n",
              "        async function convertToInteractive(key) {\n",
              "          const element = document.querySelector('#df-6b12cded-bc14-4fd7-8510-1e4b29d95feb');\n",
              "          const dataTable =\n",
              "            await google.colab.kernel.invokeFunction('convertToInteractive',\n",
              "                                                     [key], {});\n",
              "          if (!dataTable) return;\n",
              "\n",
              "          const docLinkHtml = 'Like what you see? Visit the ' +\n",
              "            '<a target=\"_blank\" href=https://colab.research.google.com/notebooks/data_table.ipynb>data table notebook</a>'\n",
              "            + ' to learn more about interactive tables.';\n",
              "          element.innerHTML = '';\n",
              "          dataTable['output_type'] = 'display_data';\n",
              "          await google.colab.output.renderOutput(dataTable, element);\n",
              "          const docLink = document.createElement('div');\n",
              "          docLink.innerHTML = docLinkHtml;\n",
              "          element.appendChild(docLink);\n",
              "        }\n",
              "      </script>\n",
              "    </div>\n",
              "  </div>\n",
              "  "
            ]
          },
          "metadata": {},
          "execution_count": 4
        }
      ]
    },
    {
      "cell_type": "code",
      "source": [
        "from sklearn.cluster import KMeans\n",
        "model = KMeans(n_clusters=3)"
      ],
      "metadata": {
        "id": "lwb7ewNG0YL8"
      },
      "execution_count": 5,
      "outputs": []
    },
    {
      "cell_type": "code",
      "source": [
        "model.fit(data)"
      ],
      "metadata": {
        "colab": {
          "base_uri": "https://localhost:8080/"
        },
        "id": "hMvrWYBf01GZ",
        "outputId": "89aaaf41-84d6-4738-d9f4-8c726e5f86e3"
      },
      "execution_count": 6,
      "outputs": [
        {
          "output_type": "execute_result",
          "data": {
            "text/plain": [
              "KMeans(n_clusters=3)"
            ]
          },
          "metadata": {},
          "execution_count": 6
        }
      ]
    },
    {
      "cell_type": "code",
      "source": [
        "labels = model.predict(data)\n",
        "labels"
      ],
      "metadata": {
        "colab": {
          "base_uri": "https://localhost:8080/"
        },
        "id": "SyMbjcVl04eX",
        "outputId": "aadb1462-8d31-4246-a3fc-2815c6496803"
      },
      "execution_count": 8,
      "outputs": [
        {
          "output_type": "execute_result",
          "data": {
            "text/plain": [
              "array([1, 0, 1, ..., 0, 0, 0], dtype=int32)"
            ]
          },
          "metadata": {},
          "execution_count": 8
        }
      ]
    },
    {
      "cell_type": "code",
      "source": [
        "np.unique(labels,return_counts = True)"
      ],
      "metadata": {
        "colab": {
          "base_uri": "https://localhost:8080/"
        },
        "id": "Ihc1OLcD0-qj",
        "outputId": "56db1e67-b2a3-4fe1-c45c-2cbe1169973c"
      },
      "execution_count": 11,
      "outputs": [
        {
          "output_type": "execute_result",
          "data": {
            "text/plain": [
              "(array([0, 1, 2], dtype=int32), array([4288, 2334,  428]))"
            ]
          },
          "metadata": {},
          "execution_count": 11
        }
      ]
    },
    {
      "cell_type": "code",
      "source": [
        "from sklearn.metrics import silhouette_score\n",
        "import matplotlib.pyplot as plt\n"
      ],
      "metadata": {
        "id": "_pO94tXd1T2c"
      },
      "execution_count": 12,
      "outputs": []
    },
    {
      "cell_type": "code",
      "source": [
        "silhouettes = []\n",
        "ks = list(range(2,12))\n"
      ],
      "metadata": {
        "id": "T3gNGDjW1mVE"
      },
      "execution_count": 15,
      "outputs": []
    },
    {
      "cell_type": "code",
      "source": [
        "for n_cluster in ks:\n",
        "  kmeans = KMeans(n_clusters  = n_cluster).fit(data)\n",
        "  label = kmeans.labels_\n",
        "  sil_coff = silhouette_score(data, label, metric = 'euclidean')\n",
        "  print('For n_clusters={}, The Silhouette Coefficient is {}'.format(n_cluster,sil_coff))\n",
        "  silhouettes.append(sil_coff)"
      ],
      "metadata": {
        "colab": {
          "base_uri": "https://localhost:8080/"
        },
        "id": "V1-XwPHd15HU",
        "outputId": "592917d7-f5a3-4a6c-8544-97b09a06995b"
      },
      "execution_count": 19,
      "outputs": [
        {
          "output_type": "stream",
          "name": "stdout",
          "text": [
            "For n_clusters=2, The Silhouette Coefficient is 0.8188237721696822\n",
            "For n_clusters=3, The Silhouette Coefficient is 0.8972493682244883\n",
            "For n_clusters=4, The Silhouette Coefficient is 0.9106664962327088\n",
            "For n_clusters=5, The Silhouette Coefficient is 0.8866768371183754\n",
            "For n_clusters=6, The Silhouette Coefficient is 0.8430118288915796\n",
            "For n_clusters=7, The Silhouette Coefficient is 0.8419421782294257\n",
            "For n_clusters=8, The Silhouette Coefficient is 0.8370052625268489\n",
            "For n_clusters=9, The Silhouette Coefficient is 0.7610220186092415\n",
            "For n_clusters=10, The Silhouette Coefficient is 0.7269839222913216\n",
            "For n_clusters=11, The Silhouette Coefficient is 0.7216993623311859\n"
          ]
        }
      ]
    },
    {
      "cell_type": "code",
      "source": [
        "plt.figure(figsize=(12,8))\n",
        "plt.subplot(211)\n",
        "plt.scatter(ks, silhouettes, marker = 'x', c = 'r')\n",
        "plt.plot(ks,silhouettes)\n",
        "plt.xlabel('k')\n",
        "plt.ylabel('Silhouette score');"
      ],
      "metadata": {
        "colab": {
          "base_uri": "https://localhost:8080/",
          "height": 260
        },
        "id": "TV85q3QX29o5",
        "outputId": "8e1de4c6-b9f2-4c47-ff6c-12aef2fcbc30"
      },
      "execution_count": 20,
      "outputs": [
        {
          "output_type": "display_data",
          "data": {
            "text/plain": [
              "<Figure size 864x576 with 1 Axes>"
            ],
            "image/png": "[encoded data removed]"
          },
          "metadata": {
            "needs_background": "light"
          }
        }
      ]
    },
    {
      "cell_type": "code",
      "source": [
        "from sklearn.cluster import KMeans\n",
        "model_1 = KMeans(n_clusters=4)\n",
        "model_1.fit(data)\n",
        "labels_1 = model_1.predict(data)\n",
        "np.unique(labels_1, return_counts=True)"
      ],
      "metadata": {
        "colab": {
          "base_uri": "https://localhost:8080/"
        },
        "id": "b4Znbvf13_vt",
        "outputId": "09ae035a-adab-4ccb-b864-c78eafaed477"
      },
      "execution_count": 23,
      "outputs": [
        {
          "output_type": "execute_result",
          "data": {
            "text/plain": [
              "(array([0, 1, 2, 3], dtype=int32), array([2334, 4288,  365,   63]))"
            ]
          },
          "metadata": {},
          "execution_count": 23
        }
      ]
    },
    {
      "cell_type": "code",
      "source": [
        "data['labels'] = labels_1\n",
        "data['labels'].value_counts()"
      ],
      "metadata": {
        "colab": {
          "base_uri": "https://localhost:8080/"
        },
        "id": "rxuDDnfs4nMz",
        "outputId": "11584c68-f298-4734-ffda-8adeab10588c"
      },
      "execution_count": 26,
      "outputs": [
        {
          "output_type": "execute_result",
          "data": {
            "text/plain": [
              "1    4288\n",
              "0    2334\n",
              "2     365\n",
              "3      63\n",
              "Name: labels, dtype: int64"
            ]
          },
          "metadata": {},
          "execution_count": 26
        }
      ]
    },
    {
      "cell_type": "code",
      "source": [
        "group_zero = data[data['labels'] == 0]['num_comments'].mean()\n",
        "group_zero"
      ],
      "metadata": {
        "colab": {
          "base_uri": "https://localhost:8080/"
        },
        "id": "RO9S6Gga4_6C",
        "outputId": "16fc5b10-51b2-41e1-cef3-57e48f2cfdd3"
      },
      "execution_count": 27,
      "outputs": [
        {
          "output_type": "execute_result",
          "data": {
            "text/plain": [
              "0.030608773182480054"
            ]
          },
          "metadata": {},
          "execution_count": 27
        }
      ]
    },
    {
      "cell_type": "code",
      "source": [
        "group_one = data[data['labels'] == 1]['num_comments'].mean()\n",
        "group_one"
      ],
      "metadata": {
        "colab": {
          "base_uri": "https://localhost:8080/"
        },
        "id": "i2h-k-CL5T0W",
        "outputId": "8dcbc1af-0a40-494a-8e26-e31be31cff5e"
      },
      "execution_count": 28,
      "outputs": [
        {
          "output_type": "execute_result",
          "data": {
            "text/plain": [
              "0.0007619566531325948"
            ]
          },
          "metadata": {},
          "execution_count": 28
        }
      ]
    },
    {
      "cell_type": "code",
      "source": [
        "group_two = data[data['labels'] == 2]['num_comments'].mean()\n",
        "group_two"
      ],
      "metadata": {
        "colab": {
          "base_uri": "https://localhost:8080/"
        },
        "id": "AaamenJy5a8V",
        "outputId": "6a52ad73-fd99-43b5-b2c9-d3c63ce1f820"
      },
      "execution_count": 29,
      "outputs": [
        {
          "output_type": "execute_result",
          "data": {
            "text/plain": [
              "0.0017264581307471548"
            ]
          },
          "metadata": {},
          "execution_count": 29
        }
      ]
    },
    {
      "cell_type": "code",
      "source": [
        "group_three = data[data['labels'] == 3]['num_comments'].mean()\n",
        "group_three"
      ],
      "metadata": {
        "colab": {
          "base_uri": "https://localhost:8080/"
        },
        "id": "YOuT5lW95gCU",
        "outputId": "baaa8cef-85d5-4660-9916-26dae88f608c"
      },
      "execution_count": 30,
      "outputs": [
        {
          "output_type": "execute_result",
          "data": {
            "text/plain": [
              "0.00027148226290672723"
            ]
          },
          "metadata": {},
          "execution_count": 30
        }
      ]
    },
    {
      "cell_type": "code",
      "source": [
        "group_zero_sh = data[data['labels'] == 0]['num_shares'].mean()\n",
        "\n",
        "group_one_sh = data[data['labels'] == 1]['num_shares'].mean()\n",
        "\n",
        "group_two_sh = data[data['labels'] == 2]['num_shares'].mean()\n",
        "\n",
        "group_three_sh = data[data['labels'] == 3]['num_shares'].mean()\n",
        "group_zero_sh,group_one_sh,group_two_sh,group_three_sh"
      ],
      "metadata": {
        "colab": {
          "base_uri": "https://localhost:8080/"
        },
        "id": "N-eI9l1O5lsB",
        "outputId": "c5c0f3a7-d9db-459b-9b23-91d47fb25e8e"
      },
      "execution_count": 33,
      "outputs": [
        {
          "output_type": "execute_result",
          "data": {
            "text/plain": [
              "(0.033785031713235436,\n",
              " 0.0007458736181824375,\n",
              " 0.0007473434899500528,\n",
              " 0.001284119566829822)"
            ]
          },
          "metadata": {},
          "execution_count": 33
        }
      ]
    },
    {
      "cell_type": "code",
      "source": [
        "status_type = data[['status_type_photo','status_type_video','status_type_status']].idxmax(axis =1)\n",
        "data = pd.concat([data['labels'], status_type.rename('status_type')], axis = 1)"
      ],
      "metadata": {
        "id": "9ZFhZOg16ECp"
      },
      "execution_count": 35,
      "outputs": []
    },
    {
      "cell_type": "code",
      "source": [
        "data.groupby(['labels','status_type',])['status_type'].count()"
      ],
      "metadata": {
        "colab": {
          "base_uri": "https://localhost:8080/"
        },
        "id": "YyOmTlRZ7iwT",
        "outputId": "89d90ada-68f2-4599-9890-720d4c090f2c"
      },
      "execution_count": 36,
      "outputs": [
        {
          "output_type": "execute_result",
          "data": {
            "text/plain": [
              "labels  status_type       \n",
              "0       status_type_video     2334\n",
              "1       status_type_photo     4288\n",
              "2       status_type_status     365\n",
              "3       status_type_photo       63\n",
              "Name: status_type, dtype: int64"
            ]
          },
          "metadata": {},
          "execution_count": 36
        }
      ]
    },
    {
      "cell_type": "code",
      "source": [
        ""
      ],
      "metadata": {
        "id": "S1MHTRX_75TS"
      },
      "execution_count": null,
      "outputs": []
    }
  ]
}